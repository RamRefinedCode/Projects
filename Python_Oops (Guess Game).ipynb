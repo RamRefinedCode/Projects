{
 "cells": [
  {
   "cell_type": "code",
   "execution_count": 64,
   "id": "f2425f13",
   "metadata": {},
   "outputs": [],
   "source": [
    " class Point:\n",
    "        \n",
    "        def __init__(self,x,y):\n",
    "            self.x = x \n",
    "            self.y = y\n",
    "       \n",
    "    \n",
    "        def falls_in_rectangle(self,rectangle):\n",
    "            if rectangle.lowleft.x < self.x < rectangle.upright.x \\\n",
    "            and rectangle.lowleft.y < self.y < rectangle.upright.y:\n",
    "                return True\n",
    "            return False\n",
    "    \n",
    "    \n",
    "        def distance_from_point(self,point):\n",
    "            return ((self.x - point.x)**2 + \n",
    "                    (self.y - point.y)**2) ** 0.5\n",
    "        \n",
    "\n",
    "        \n",
    "class Rectangle:\n",
    "    \n",
    "    def __init__(self,lowleft,upright):\n",
    "        self.lowleft = lowleft\n",
    "        self.upright = upright\n",
    "    \n",
    "    def area(self):\n",
    "        return (self.upright.x-self.lowleft.x) * \\\n",
    "               (self.upright.y-self.lowleft.y)  "
   ]
  },
  {
   "cell_type": "code",
   "execution_count": 65,
   "id": "b075b8e4",
   "metadata": {},
   "outputs": [
    {
     "name": "stdout",
     "output_type": "stream",
     "text": [
      "Rectangle Coordinates :5,2 and 10,19\n",
      "Guess X: 2\n",
      "Guess Y: 2\n",
      "Guess the area : 22\n",
      "your point was inside rectangle : False\n",
      "Your area was off by : 63.0\n"
     ]
    }
   ],
   "source": [
    "from random import randint\n",
    "\n",
    "rectangle = Rectangle(\n",
    "Point(randint(0,9),randint(0,9)),\n",
    "Point(randint(10,19),randint(10,19))\n",
    ")\n",
    "\n",
    "print(f'Rectangle Coordinates :{rectangle.lowleft.x},{rectangle.lowleft.y} and {rectangle.upright.x},{rectangle.upright.y}')\n",
    "\n",
    "user_point = Point(float(input('Guess X: ')),  float(input('Guess Y: ')))\n",
    "\n",
    "user_area = float(input('Guess the area : '))\n",
    "\n",
    "print('your point was inside rectangle :',\n",
    "       user_point.falls_in_rectangle(rectangle))\n",
    "\n",
    "print('Your area was off by :',rectangle.area() - user_area)"
   ]
  },
  {
   "cell_type": "code",
   "execution_count": null,
   "id": "f530e972",
   "metadata": {},
   "outputs": [],
   "source": []
  },
  {
   "cell_type": "code",
   "execution_count": null,
   "id": "1062c38e",
   "metadata": {},
   "outputs": [],
   "source": []
  },
  {
   "cell_type": "code",
   "execution_count": 32,
   "id": "4730ee57",
   "metadata": {},
   "outputs": [],
   "source": []
  },
  {
   "cell_type": "code",
   "execution_count": null,
   "id": "3483e344",
   "metadata": {},
   "outputs": [],
   "source": []
  },
  {
   "cell_type": "code",
   "execution_count": null,
   "id": "c9f4ca09",
   "metadata": {},
   "outputs": [],
   "source": []
  }
 ],
 "metadata": {
  "kernelspec": {
   "display_name": "Python 3 (ipykernel)",
   "language": "python",
   "name": "python3"
  },
  "language_info": {
   "codemirror_mode": {
    "name": "ipython",
    "version": 3
   },
   "file_extension": ".py",
   "mimetype": "text/x-python",
   "name": "python",
   "nbconvert_exporter": "python",
   "pygments_lexer": "ipython3",
   "version": "3.9.13"
  }
 },
 "nbformat": 4,
 "nbformat_minor": 5
}
