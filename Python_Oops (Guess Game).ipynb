{
 "cells": [
  {
   "cell_type": "code",
   "execution_count": 60,
   "id": "f2425f13",
   "metadata": {},
   "outputs": [],
   "source": [
    " class Point:\n",
    "        \n",
    "        def __init__(self,x,y):\n",
    "            self.x = x \n",
    "            self.y = y\n",
    "       \n",
    "    \n",
    "        def falls_in_rectangle(self,rectangle):\n",
    "            print(rectangle.lowleft.x,rectangle.lowleft.y)\n",
    "            print(rectangle.upright.x,rectangle.upright.y)  \n",
    "            if rectangle.lowleft.x < self.x < rectangle.upright.x \\\n",
    "            and rectangle.lowleft.y < self.y < rectangle.upright.y:\n",
    "                return True\n",
    "            return False\n",
    "    \n",
    "    \n",
    "        def distance_from_point(self,point):\n",
    "            return ((self.x - point.x)**2 + \n",
    "                    (self.y - point.y)**2) ** 0.5\n",
    "        \n",
    "\n",
    "        \n",
    "class Rectangle:\n",
    "    \n",
    "    def __init__(self,lowleft,upright):\n",
    "        self.lowleft = lowleft\n",
    "        self.upright = upright\n",
    "    \n",
    "    def area(self):\n",
    "        return (self.upright.x-self.lowleft.x) * \\\n",
    "               (self.upright.y-self.lowleft.y)  "
   ]
  },
  {
   "cell_type": "code",
   "execution_count": 63,
   "id": "4ed71f6a",
   "metadata": {},
   "outputs": [
    {
     "name": "stdout",
     "output_type": "stream",
     "text": [
      "Rectangle Coordinates :3,8 and 13,17\n",
      "Guess X: 4\n",
      "Guess Y: 14\n",
      "Guess the area : 24\n",
      "3 8\n",
      "13 17\n",
      "your point was inside rectangle : True\n",
      "Your area was off by : 66.0\n"
     ]
    }
   ],
   "source": [
    "from random import randint\n",
    "\n",
    "rectangle = Rectangle(\n",
    "Point(randint(0,9),randint(0,9)),\n",
    "Point(randint(10,19),randint(10,19))\n",
    ")\n",
    "\n",
    "print(f'Rectangle Coordinates :{rectangle.lowleft.x},{rectangle.lowleft.y} and {rectangle.upright.x},{rectangle.upright.y}')\n",
    "\n",
    "user_point = Point(float(input('Guess X: ')),  float(input('Guess Y: ')))\n",
    "\n",
    "user_area = float(input('Guess the area : '))\n",
    "\n",
    "print('your point was inside rectangle :',\n",
    "       user_point.falls_in_rectangle(rectangle))\n",
    "\n",
    "print('Your area was off by :',rectangle.area() - user_area)"
   ]
  },
  {
   "cell_type": "code",
   "execution_count": null,
   "id": "f530e972",
   "metadata": {},
   "outputs": [],
   "source": []
  },
  {
   "cell_type": "code",
   "execution_count": null,
   "id": "604f4b72",
   "metadata": {},
   "outputs": [],
   "source": []
  },
  {
   "cell_type": "code",
   "execution_count": 32,
   "id": "fbfd00d3",
   "metadata": {},
   "outputs": [],
   "source": []
  },
  {
   "cell_type": "code",
   "execution_count": null,
   "id": "5855a5b7",
   "metadata": {},
   "outputs": [],
   "source": []
  },
  {
   "cell_type": "code",
   "execution_count": null,
   "id": "0bfa8ad4",
   "metadata": {},
   "outputs": [],
   "source": []
  }
 ],
 "metadata": {
  "kernelspec": {
   "display_name": "Python 3 (ipykernel)",
   "language": "python",
   "name": "python3"
  },
  "language_info": {
   "codemirror_mode": {
    "name": "ipython",
    "version": 3
   },
   "file_extension": ".py",
   "mimetype": "text/x-python",
   "name": "python",
   "nbconvert_exporter": "python",
   "pygments_lexer": "ipython3",
   "version": "3.9.13"
  }
 },
 "nbformat": 4,
 "nbformat_minor": 5
}
