{
 "cells": [
  {
   "cell_type": "code",
   "execution_count": null,
   "id": "25d02192",
   "metadata": {},
   "outputs": [],
   "source": [
    "import smtplib\n",
    "\n",
    "\n",
    "to = input(\"Enter the email address of the receiver :\")\n",
    "\n",
    "message = input('Enter the message :')\n",
    "\n",
    "def SendEmail(to,message):\n",
    "    server = smtplib.SMTP('smtp.gmail.com',587)\n",
    "    server.starttls()\n",
    "    server.login('email234@gmail.com','pass12345')\n",
    "    server.sendmail(email234@gmail.com,to,message)\n",
    "    server.close()\n",
    "\n",
    "\n",
    "\n",
    "SendEmail(to,message)"
   ]
  },
  {
   "cell_type": "code",
   "execution_count": null,
   "id": "a752f72c",
   "metadata": {},
   "outputs": [],
   "source": []
  }
 ],
 "metadata": {
  "kernelspec": {
   "display_name": "Python 3 (ipykernel)",
   "language": "python",
   "name": "python3"
  },
  "language_info": {
   "codemirror_mode": {
    "name": "ipython",
    "version": 3
   },
   "file_extension": ".py",
   "mimetype": "text/x-python",
   "name": "python",
   "nbconvert_exporter": "python",
   "pygments_lexer": "ipython3",
   "version": "3.9.13"
  }
 },
 "nbformat": 4,
 "nbformat_minor": 5
}
